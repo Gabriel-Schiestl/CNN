{
 "cells": [
  {
   "cell_type": "code",
   "execution_count": 12,
   "id": "96667454-b586-4c31-81ec-a0f8dda0f3e9",
   "metadata": {},
   "outputs": [],
   "source": [
    "import matplotlib.pyplot as plt\n",
    "import numpy as np\n",
    "import os\n",
    "import PIL\n",
    "import tensorflow as tf\n",
    "from keras.preprocessing import image\n",
    "from tensorflow.keras.models import load_model\n",
    "\n",
    "from tensorflow import keras\n",
    "from tensorflow.keras import layers\n",
    "from tensorflow.keras.models import Sequential"
   ]
  },
  {
   "cell_type": "code",
   "execution_count": 13,
   "id": "0617681c-6e59-433f-9f6d-a76a8e93ee3e",
   "metadata": {},
   "outputs": [],
   "source": [
    "batch_size = 8\n",
    "img_height = 300\n",
    "img_width = 300\n",
    "image_size = (img_height, img_width)\n",
    "class_names = ['Cercosporiose', 'Ferrugem', 'Saudavel']"
   ]
  },
  {
   "cell_type": "code",
   "execution_count": 14,
   "id": "1bf1c72a-1f5f-48bf-a71d-835612594be4",
   "metadata": {},
   "outputs": [
    {
     "name": "stdout",
     "output_type": "stream",
     "text": [
      "Found 2615 files belonging to 3 classes.\n",
      "Using 2092 files for training.\n"
     ]
    }
   ],
   "source": [
    "validation_set = tf.keras.utils.image_dataset_from_directory(\n",
    "    'dataset/',\n",
    "    validation_split=0.2,\n",
    "    subset=\"training\",\n",
    "    seed=123,\n",
    "    image_size=image_size,\n",
    "    batch_size=batch_size,)"
   ]
  },
  {
   "cell_type": "code",
   "execution_count": 15,
   "id": "f6ea3749-35f3-4f54-b68d-478a29a535d7",
   "metadata": {},
   "outputs": [
    {
     "name": "stdout",
     "output_type": "stream",
     "text": [
      "\u001b[1m262/262\u001b[0m \u001b[32m━━━━━━━━━━━━━━━━━━━━\u001b[0m\u001b[37m\u001b[0m \u001b[1m16s\u001b[0m 58ms/step - accuracy: 0.9353 - loss: 0.1644\n",
      "Loss: 0.16588272154331207, Accuracy: 0.9364244937896729\n"
     ]
    }
   ],
   "source": [
    "cnn = load_model(\"../Modelos/SicknessMinder_V3_4_1.keras\")\n",
    "loss, accuracy = cnn.evaluate(validation_set)\n",
    "print(f'Loss: {loss}, Accuracy: {accuracy}')"
   ]
  },
  {
   "cell_type": "code",
   "execution_count": 16,
   "id": "29a646f6-e0de-4471-85a9-db856c26f303",
   "metadata": {},
   "outputs": [
    {
     "name": "stdout",
     "output_type": "stream",
     "text": [
      "\u001b[1m1/1\u001b[0m \u001b[32m━━━━━━━━━━━━━━━━━━━━\u001b[0m\u001b[37m\u001b[0m \u001b[1m0s\u001b[0m 175ms/step\n",
      "['Cercosporiose', 'Ferrugem', 'Saudavel']\n"
     ]
    }
   ],
   "source": [
    "test_image = image.load_img('./testset/teste3.jpg', target_size = image_size)\n",
    "test_image = image.img_to_array(test_image)\n",
    "test_image = np.expand_dims(test_image, axis = 0)\n",
    "result = cnn.predict(test_image)\n",
    "\n",
    "print(class_names)"
   ]
  },
  {
   "cell_type": "code",
   "execution_count": 18,
   "id": "72843a9c-252d-49b1-8e9f-1afc7bb7951d",
   "metadata": {},
   "outputs": [
    {
     "name": "stdout",
     "output_type": "stream",
     "text": [
      "[[ 0.34962222  1.6198646  -9.52122   ]]\n"
     ]
    }
   ],
   "source": [
    "print(result)"
   ]
  },
  {
   "cell_type": "code",
   "execution_count": 17,
   "id": "63915f04-0db9-47b8-bbbc-eb73045c3c15",
   "metadata": {},
   "outputs": [
    {
     "name": "stdout",
     "output_type": "stream",
     "text": [
      "A classe prevista é Ferrugem\n"
     ]
    }
   ],
   "source": [
    "def getProbability(result=result):\n",
    "    probabilities = np.exp(result) / np.sum(np.exp(result), axis=1, keepdims=True)    \n",
    "\n",
    "    predicted_index = np.argmax(probabilities)\n",
    "    \n",
    "    predicted_class_name = class_names[predicted_index]\n",
    "\n",
    "    return predicted_class_name\n",
    "\n",
    "print(f\"A classe prevista é {getProbability()}\")"
   ]
  }
 ],
 "metadata": {
  "kernelspec": {
   "display_name": "Python 3 (ipykernel)",
   "language": "python",
   "name": "python3"
  },
  "language_info": {
   "codemirror_mode": {
    "name": "ipython",
    "version": 3
   },
   "file_extension": ".py",
   "mimetype": "text/x-python",
   "name": "python",
   "nbconvert_exporter": "python",
   "pygments_lexer": "ipython3",
   "version": "3.12.7"
  }
 },
 "nbformat": 4,
 "nbformat_minor": 5
}
